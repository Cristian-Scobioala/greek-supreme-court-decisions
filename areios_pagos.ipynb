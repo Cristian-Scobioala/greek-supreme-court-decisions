{
 "cells": [
  {
   "cell_type": "markdown",
   "id": "73834eeb",
   "metadata": {},
   "source": [
    "# Areios Pagos Crawling"
   ]
  },
  {
   "cell_type": "code",
   "execution_count": 7,
   "id": "9104707b",
   "metadata": {},
   "outputs": [],
   "source": [
    "from selenium import webdriver\n",
    "from selenium.webdriver.firefox.service import Service\n",
    "from selenium.webdriver.firefox.options import Options\n",
    "from selenium.webdriver.support.ui import WebDriverWait, Select\n",
    "from selenium.webdriver.support import expected_conditions\n",
    "from selenium.webdriver.common.by import By\n",
    "\n",
    "from bs4 import BeautifulSoup\n",
    "from pprint import pprint\n",
    "\n",
    "import time"
   ]
  },
  {
   "cell_type": "code",
   "execution_count": 4,
   "id": "bdfe513c",
   "metadata": {},
   "outputs": [],
   "source": [
    "def open_firefox():\n",
    "        firefox_options = Options()\n",
    "        driver_path = r'C:\\Program Files\\geckodriver-v0.35.0-win64\\geckodriver.exe'\n",
    "        service = Service(driver_path)\n",
    "        driver = webdriver.Firefox(service=service, options=firefox_options)\n",
    "        return driver"
   ]
  },
  {
   "cell_type": "code",
   "execution_count": null,
   "id": "a16cd769",
   "metadata": {},
   "outputs": [],
   "source": [
    "def search_decisions(driver, year=\"2024\"):\n",
    "        driver.get(\"https://areiospagos.gr/nomologia/apofaseis.asp\")\n",
    "        wait = WebDriverWait(driver, 10)\n",
    "\n",
    "        # fill 2024 as the year to be searched\n",
    "        year_input = wait.until(expected_conditions.presence_of_element_located((By.NAME, 'x_ETOS')))\n",
    "        year_input.clear()\n",
    "        year_input.send_keys(year)\n",
    "\n",
    "        # select 'ΟΛΕΣ' stis 'Αποφάσεις'\n",
    "        select_tmhma = Select(driver.find_element(By.NAME, 'X_TMHMA'))\n",
    "        select_tmhma.select_by_value('6')\n",
    "\n",
    "        # select 'ΟΛΕΣ' sto 'Τμήμα'\n",
    "        select_sub_tmhma = Select(driver.find_element(By.NAME, 'X_SUB_TMHMA'))\n",
    "        select_sub_tmhma.select_by_value('1')\n",
    "\n",
    "        search_button = driver.find_element(By.NAME, 'submit_krit')\n",
    "        search_button.click()\n",
    "\n",
    "        time.sleep(2)\n",
    "        print(driver.page_source)\n",
    "        return driver.page_source\n",
    "\n",
    "# Usage\n",
    "driver = open_firefox()\n",
    "html_content = search_decisions(driver, \"2024\") "
   ]
  },
  {
   "cell_type": "code",
   "execution_count": null,
   "id": "8be314f5",
   "metadata": {},
   "outputs": [],
   "source": [
    "def extract_decision_links(html_content):\n",
    "        soup = BeautifulSoup(html_content, 'html.parser')\n",
    "        links = []\n",
    "\n",
    "        for a_tag in soup.select('a.blue10_cursor[href^=\"apofaseis_DISPLAY.asp\"]'):\n",
    "                decision_id = a_tag.text.strip()\n",
    "                info = a_tag.get('href').split('info')[1] if 'info=' in a_tag.get('href') else \"\"\n",
    "\n",
    "                href = a_tag.get('href')\n",
    "\n",
    "                url = 'full_url = f\"https://areiospagos.gr/nomologia/{href}\"'\n",
    "\n",
    "                links.append({\n",
    "                        'decision_id': decision_id,\n",
    "                        'info': info,\n",
    "                        'url': url\n",
    "                })\n",
    "\n",
    "        return links\n",
    "\n",
    "links = extract_decision_links(html_content)\n",
    "pprint(links)       "
   ]
  }
 ],
 "metadata": {
  "kernelspec": {
   "display_name": "Python 3",
   "language": "python",
   "name": "python3"
  },
  "language_info": {
   "codemirror_mode": {
    "name": "ipython",
    "version": 3
   },
   "file_extension": ".py",
   "mimetype": "text/x-python",
   "name": "python",
   "nbconvert_exporter": "python",
   "pygments_lexer": "ipython3",
   "version": "3.12.2"
  }
 },
 "nbformat": 4,
 "nbformat_minor": 5
}
