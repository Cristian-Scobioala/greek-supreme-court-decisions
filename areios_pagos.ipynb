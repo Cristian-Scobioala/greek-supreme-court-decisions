{
 "cells": [
  {
   "cell_type": "markdown",
   "id": "73834eeb",
   "metadata": {},
   "source": [
    "# Areios Pagos Crawling"
   ]
  },
  {
   "cell_type": "code",
   "execution_count": 1,
   "id": "9104707b",
   "metadata": {},
   "outputs": [],
   "source": [
    "from selenium import webdriver\n",
    "from selenium.webdriver.firefox.service import Service\n",
    "from selenium.webdriver.firefox.options import Options"
   ]
  },
  {
   "cell_type": "code",
   "execution_count": 4,
   "id": "bdfe513c",
   "metadata": {},
   "outputs": [],
   "source": [
    "def open_firefox():\n",
    "        firefox_options = Options()\n",
    "        driver_path = r'C:\\Program Files\\geckodriver-v0.35.0-win64\\geckodriver.exe'\n",
    "        service = Service(driver_path)\n",
    "        driver = webdriver.Firefox(service=service, options=firefox_options)\n",
    "        return driver"
   ]
  }
 ],
 "metadata": {
  "kernelspec": {
   "display_name": "Python 3",
   "language": "python",
   "name": "python3"
  },
  "language_info": {
   "codemirror_mode": {
    "name": "ipython",
    "version": 3
   },
   "file_extension": ".py",
   "mimetype": "text/x-python",
   "name": "python",
   "nbconvert_exporter": "python",
   "pygments_lexer": "ipython3",
   "version": "3.12.2"
  }
 },
 "nbformat": 4,
 "nbformat_minor": 5
}
